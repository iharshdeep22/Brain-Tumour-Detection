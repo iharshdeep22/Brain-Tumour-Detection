{
  "nbformat": 4,
  "nbformat_minor": 0,
  "metadata": {
    "colab": {
      "name": "Brain_tumour_detect.ipynb",
      "provenance": [],
      "mount_file_id": "1nyPEtgK8w3ORpXtnw2J-JvpM0CEME3ZE",
      "authorship_tag": "ABX9TyM/iF6wuQWY7yV98t1/96bz",
      "include_colab_link": true
    },
    "kernelspec": {
      "name": "python3",
      "display_name": "Python 3"
    },
    "language_info": {
      "name": "python"
    }
  },
  "cells": [
    {
      "cell_type": "markdown",
      "metadata": {
        "id": "view-in-github",
        "colab_type": "text"
      },
      "source": [
        "<a href=\"https://colab.research.google.com/github/iharshdeep22/Brain-Tumour-Detection/blob/main/Brain_tumour_detect.ipynb\" target=\"_parent\"><img src=\"https://colab.research.google.com/assets/colab-badge.svg\" alt=\"Open In Colab\"/></a>"
      ]
    },
    {
      "cell_type": "markdown",
      "source": [
        "### **MOUNTING GOOGLE DRIVE**"
      ],
      "metadata": {
        "id": "fhc8kHs35huE"
      }
    },
    {
      "cell_type": "code",
      "execution_count": null,
      "metadata": {
        "colab": {
          "base_uri": "https://localhost:8080/"
        },
        "id": "gUnXL9SQnoIz",
        "outputId": "9229f7d4-7dfb-48a8-ed79-937c2032b258"
      },
      "outputs": [
        {
          "output_type": "stream",
          "name": "stdout",
          "text": [
            "Drive already mounted at /content/drive; to attempt to forcibly remount, call drive.mount(\"/content/drive\", force_remount=True).\n"
          ]
        }
      ],
      "source": [
        "from google.colab import drive\n",
        "drive.mount('/content/drive')"
      ]
    },
    {
      "cell_type": "code",
      "source": [
        "import os\n",
        "import keras \n",
        "from keras.models import Sequential\n",
        "from keras.layers import Conv2D, MaxPooling2D, Flatten, Dense, Dropout, BatchNormalization\n",
        "from PIL import Image\n",
        "import numpy as np\n",
        "import pandas as pd\n",
        "import matplotlib.pyplot as plt\n",
        "from sklearn.model_selection import train_test_split\n",
        "from sklearn.preprocessing import OneHotEncoder "
      ],
      "metadata": {
        "id": "2v2uC-HB_GYo"
      },
      "execution_count": null,
      "outputs": []
    },
    {
      "cell_type": "markdown",
      "source": [
        "## One Hot Encoding the Target Classes"
      ],
      "metadata": {
        "id": "dWhXiZgP6EDx"
      }
    },
    {
      "cell_type": "code",
      "source": [
        "encoder = OneHotEncoder()\n",
        "encoder.fit([[0], [1]]) \n",
        "\n",
        "# 0 - Tumor\n",
        "# 1 - Normal\n"
      ],
      "metadata": {
        "colab": {
          "base_uri": "https://localhost:8080/"
        },
        "id": "zEACocG2kpvM",
        "outputId": "b1102843-ae42-44a4-8518-7c264932198d"
      },
      "execution_count": null,
      "outputs": [
        {
          "output_type": "execute_result",
          "data": {
            "text/plain": [
              "OneHotEncoder()"
            ]
          },
          "metadata": {},
          "execution_count": 3
        }
      ]
    },
    {
      "cell_type": "markdown",
      "source": [
        "## Creating three important lists:\n",
        "1. data list for storing image data in numpy array form\n",
        "2. paths list for storing paths of all images\n",
        "3. result list for storing one hot encoded form of target class whether normal or tumour"
      ],
      "metadata": {
        "id": "NDgQelHc6MNh"
      }
    },
    {
      "cell_type": "code",
      "source": [
        "# This cell updates result list for images with tumor\n",
        "\n",
        "data = []\n",
        "paths = []\n",
        "result = []\n",
        "\n",
        "for r, d, f in os.walk(r\"/content/drive/MyDrive/Dataset/brain_tumor_dataset/yes\"):\n",
        "    for file in f:\n",
        "        if '.jpg' in file:\n",
        "            paths.append(os.path.join(r, file))\n",
        "\n",
        "for path in paths:\n",
        "    img = Image.open(path)\n",
        "    img = img.resize((128,128))\n",
        "    img = np.array(img)\n",
        "    if(img.shape == (128,128,3)):\n",
        "        data.append(np.array(img))\n",
        "        result.append(encoder.transform([[0]]).toarray())"
      ],
      "metadata": {
        "id": "neRe_y9uk0l-"
      },
      "execution_count": null,
      "outputs": []
    },
    {
      "cell_type": "code",
      "source": [
        "# This cell updates result list for images without tumor\n",
        "\n",
        "paths = []\n",
        "for r, d, f in os.walk(r\"/content/drive/MyDrive/Dataset/brain_tumor_dataset/no\"):\n",
        "    for file in f:\n",
        "        if '.jpg' in file:\n",
        "            paths.append(os.path.join(r, file))\n",
        "\n",
        "for path in paths:\n",
        "    img = Image.open(path)\n",
        "    img = img.resize((128,128))\n",
        "    img = np.array(img)\n",
        "    if(img.shape == (128,128,3)):\n",
        "        data.append(np.array(img))\n",
        "        result.append(encoder.transform([[1]]).toarray())"
      ],
      "metadata": {
        "id": "IquKbC_qlRbr"
      },
      "execution_count": null,
      "outputs": []
    },
    {
      "cell_type": "code",
      "source": [
        "data = np.array(data)\n",
        "data.shape"
      ],
      "metadata": {
        "colab": {
          "base_uri": "https://localhost:8080/"
        },
        "id": "rfHnJ8FHlfPE",
        "outputId": "d1be8091-7655-4ace-9632-47802cddc0ea"
      },
      "execution_count": null,
      "outputs": [
        {
          "output_type": "execute_result",
          "data": {
            "text/plain": [
              "(139, 128, 128, 3)"
            ]
          },
          "metadata": {},
          "execution_count": 6
        }
      ]
    },
    {
      "cell_type": "code",
      "source": [
        "result = np.array(result)\n",
        "result = result.reshape(139,2)"
      ],
      "metadata": {
        "id": "DI648gDclkGC"
      },
      "execution_count": null,
      "outputs": []
    },
    {
      "cell_type": "markdown",
      "source": [
        "## Splitting the data into Test and Train"
      ],
      "metadata": {
        "id": "fBFcy5mi7twx"
      }
    },
    {
      "cell_type": "code",
      "source": [
        "x_train,x_test,y_train,y_test = train_test_split(data, result, test_size=0.2, shuffle=True, random_state=0)"
      ],
      "metadata": {
        "id": "woZrgWnAloMS"
      },
      "execution_count": null,
      "outputs": []
    },
    {
      "cell_type": "markdown",
      "source": [
        "## Building Model"
      ],
      "metadata": {
        "id": "qRcLJFaF8bty"
      }
    },
    {
      "cell_type": "code",
      "source": [
        "model = Sequential()\n",
        "\n",
        "model.add(Conv2D(32, kernel_size=(2, 2), input_shape=(128, 128, 3), padding = 'Same'))\n",
        "model.add(Conv2D(32, kernel_size=(2, 2),  activation ='relu', padding = 'Same'))\n",
        "\n",
        "\n",
        "model.add(BatchNormalization())\n",
        "model.add(MaxPooling2D(pool_size=(2, 2)))\n",
        "model.add(Dropout(0.25))\n",
        "\n",
        "model.add(Conv2D(64, kernel_size = (2,2), activation ='relu', padding = 'Same'))\n",
        "model.add(Conv2D(64, kernel_size = (2,2), activation ='relu', padding = 'Same'))\n",
        "\n",
        "model.add(BatchNormalization())\n",
        "model.add(MaxPooling2D(pool_size=(2,2), strides=(2,2)))\n",
        "model.add(Dropout(0.25))\n",
        "\n",
        "model.add(Flatten())\n",
        "\n",
        "model.add(Dense(512, activation='relu'))\n",
        "model.add(Dropout(0.5))\n",
        "model.add(Dense(2, activation='softmax'))\n",
        "\n",
        "model.compile(loss = \"categorical_crossentropy\", optimizer='Adamax')\n",
        "print(model.summary())"
      ],
      "metadata": {
        "id": "TULUSYGYlrCy",
        "colab": {
          "base_uri": "https://localhost:8080/"
        },
        "outputId": "251e57da-dc37-48e9-ea59-d4f076d42df0"
      },
      "execution_count": null,
      "outputs": [
        {
          "output_type": "stream",
          "name": "stdout",
          "text": [
            "Model: \"sequential\"\n",
            "_________________________________________________________________\n",
            " Layer (type)                Output Shape              Param #   \n",
            "=================================================================\n",
            " conv2d (Conv2D)             (None, 128, 128, 32)      416       \n",
            "                                                                 \n",
            " conv2d_1 (Conv2D)           (None, 128, 128, 32)      4128      \n",
            "                                                                 \n",
            " batch_normalization (BatchN  (None, 128, 128, 32)     128       \n",
            " ormalization)                                                   \n",
            "                                                                 \n",
            " max_pooling2d (MaxPooling2D  (None, 64, 64, 32)       0         \n",
            " )                                                               \n",
            "                                                                 \n",
            " dropout (Dropout)           (None, 64, 64, 32)        0         \n",
            "                                                                 \n",
            " conv2d_2 (Conv2D)           (None, 64, 64, 64)        8256      \n",
            "                                                                 \n",
            " conv2d_3 (Conv2D)           (None, 64, 64, 64)        16448     \n",
            "                                                                 \n",
            " batch_normalization_1 (Batc  (None, 64, 64, 64)       256       \n",
            " hNormalization)                                                 \n",
            "                                                                 \n",
            " max_pooling2d_1 (MaxPooling  (None, 32, 32, 64)       0         \n",
            " 2D)                                                             \n",
            "                                                                 \n",
            " dropout_1 (Dropout)         (None, 32, 32, 64)        0         \n",
            "                                                                 \n",
            " flatten (Flatten)           (None, 65536)             0         \n",
            "                                                                 \n",
            " dense (Dense)               (None, 512)               33554944  \n",
            "                                                                 \n",
            " dropout_2 (Dropout)         (None, 512)               0         \n",
            "                                                                 \n",
            " dense_1 (Dense)             (None, 2)                 1026      \n",
            "                                                                 \n",
            "=================================================================\n",
            "Total params: 33,585,602\n",
            "Trainable params: 33,585,410\n",
            "Non-trainable params: 192\n",
            "_________________________________________________________________\n",
            "None\n"
          ]
        }
      ]
    },
    {
      "cell_type": "code",
      "source": [
        "y_train.shape"
      ],
      "metadata": {
        "id": "gzivQpPwl37E",
        "colab": {
          "base_uri": "https://localhost:8080/"
        },
        "outputId": "95018f3a-bcd6-47f7-9c7e-0f41a3dd8f55"
      },
      "execution_count": null,
      "outputs": [
        {
          "output_type": "execute_result",
          "data": {
            "text/plain": [
              "(111, 2)"
            ]
          },
          "metadata": {},
          "execution_count": 10
        }
      ]
    },
    {
      "cell_type": "markdown",
      "source": [
        "## Fitting Model"
      ],
      "metadata": {
        "id": "6n4I-QVz8jSf"
      }
    },
    {
      "cell_type": "code",
      "source": [
        "history = model.fit(x_train, y_train, epochs = 30, batch_size = 40, verbose = 1,validation_data = (x_test, y_test))"
      ],
      "metadata": {
        "id": "ZUaY6z93l-gH",
        "colab": {
          "base_uri": "https://localhost:8080/"
        },
        "outputId": "4228b6d8-8f56-4373-847f-64b8e3f51b29"
      },
      "execution_count": null,
      "outputs": [
        {
          "output_type": "stream",
          "name": "stdout",
          "text": [
            "Epoch 1/30\n",
            "3/3 [==============================] - 8s 2s/step - loss: 60.4704 - val_loss: 29.5367\n",
            "Epoch 2/30\n",
            "3/3 [==============================] - 7s 2s/step - loss: 25.4287 - val_loss: 22.7432\n",
            "Epoch 3/30\n",
            "3/3 [==============================] - 7s 2s/step - loss: 10.1142 - val_loss: 5.2084\n",
            "Epoch 4/30\n",
            "3/3 [==============================] - 7s 2s/step - loss: 2.9717 - val_loss: 13.8433\n",
            "Epoch 5/30\n",
            "3/3 [==============================] - 7s 2s/step - loss: 5.0063 - val_loss: 6.5411\n",
            "Epoch 6/30\n",
            "3/3 [==============================] - 7s 2s/step - loss: 1.6073 - val_loss: 3.4482\n",
            "Epoch 7/30\n",
            "3/3 [==============================] - 7s 2s/step - loss: 0.4413 - val_loss: 7.5812\n",
            "Epoch 8/30\n",
            "3/3 [==============================] - 7s 2s/step - loss: 0.4190 - val_loss: 9.2571\n",
            "Epoch 9/30\n",
            "3/3 [==============================] - 7s 2s/step - loss: 0.6054 - val_loss: 8.6810\n",
            "Epoch 10/30\n",
            "3/3 [==============================] - 7s 2s/step - loss: 0.7487 - val_loss: 7.3388\n",
            "Epoch 11/30\n",
            "3/3 [==============================] - 7s 2s/step - loss: 0.5418 - val_loss: 4.9302\n",
            "Epoch 12/30\n",
            "3/3 [==============================] - 7s 2s/step - loss: 0.1598 - val_loss: 3.3634\n",
            "Epoch 13/30\n",
            "3/3 [==============================] - 7s 2s/step - loss: 0.3054 - val_loss: 2.6539\n",
            "Epoch 14/30\n",
            "3/3 [==============================] - 7s 2s/step - loss: 0.2995 - val_loss: 2.5057\n",
            "Epoch 15/30\n",
            "3/3 [==============================] - 7s 2s/step - loss: 0.1029 - val_loss: 2.5726\n",
            "Epoch 16/30\n",
            "3/3 [==============================] - 7s 2s/step - loss: 0.1810 - val_loss: 2.7923\n",
            "Epoch 17/30\n",
            "3/3 [==============================] - 7s 2s/step - loss: 0.0293 - val_loss: 2.9300\n",
            "Epoch 18/30\n",
            "3/3 [==============================] - 7s 2s/step - loss: 0.0531 - val_loss: 3.0085\n",
            "Epoch 19/30\n",
            "3/3 [==============================] - 7s 2s/step - loss: 0.0957 - val_loss: 3.0045\n",
            "Epoch 20/30\n",
            "3/3 [==============================] - 7s 2s/step - loss: 0.0302 - val_loss: 2.9371\n",
            "Epoch 21/30\n",
            "3/3 [==============================] - 7s 2s/step - loss: 0.1643 - val_loss: 2.7764\n",
            "Epoch 22/30\n",
            "3/3 [==============================] - 7s 2s/step - loss: 0.0123 - val_loss: 2.5943\n",
            "Epoch 23/30\n",
            "3/3 [==============================] - 7s 2s/step - loss: 0.0332 - val_loss: 2.4507\n",
            "Epoch 24/30\n",
            "3/3 [==============================] - 7s 2s/step - loss: 0.0021 - val_loss: 2.3447\n",
            "Epoch 25/30\n",
            "3/3 [==============================] - 7s 2s/step - loss: 0.0541 - val_loss: 2.3287\n",
            "Epoch 26/30\n",
            "3/3 [==============================] - 7s 2s/step - loss: 0.0040 - val_loss: 2.3173\n",
            "Epoch 27/30\n",
            "3/3 [==============================] - 7s 2s/step - loss: 0.0092 - val_loss: 2.2918\n",
            "Epoch 28/30\n",
            "3/3 [==============================] - 7s 2s/step - loss: 0.2678 - val_loss: 2.2795\n",
            "Epoch 29/30\n",
            "3/3 [==============================] - 7s 2s/step - loss: 0.0023 - val_loss: 2.2677\n",
            "Epoch 30/30\n",
            "3/3 [==============================] - 7s 2s/step - loss: 0.0072 - val_loss: 2.2583\n"
          ]
        }
      ]
    },
    {
      "cell_type": "markdown",
      "source": [
        "## Plotting Losses"
      ],
      "metadata": {
        "id": "ZXDn9wyP8m-u"
      }
    },
    {
      "cell_type": "code",
      "source": [
        "plt.plot(history.history['loss'])\n",
        "plt.plot(history.history['val_loss'])\n",
        "plt.title('Model Loss')\n",
        "plt.ylabel('Loss')\n",
        "plt.xlabel('Epoch')\n",
        "plt.legend(['Test', 'Validation'], loc='upper right')\n",
        "plt.show()"
      ],
      "metadata": {
        "id": "mtYxPEbymxHi",
        "colab": {
          "base_uri": "https://localhost:8080/",
          "height": 295
        },
        "outputId": "fc35cd5b-4755-4cc7-8482-d719f4d37b48"
      },
      "execution_count": null,
      "outputs": [
        {
          "output_type": "display_data",
          "data": {
            "image/png": "[encoded data removed]",
            "text/plain": [
              "<Figure size 432x288 with 1 Axes>"
            ]
          },
          "metadata": {
            "needs_background": "light"
          }
        }
      ]
    },
    {
      "cell_type": "code",
      "source": [
        "def names(number):\n",
        "    if number==0:\n",
        "        return 'Its a Tumor'\n",
        "    else:\n",
        "        return 'No, Its not a tumor'"
      ],
      "metadata": {
        "id": "XrsBUpcZm1ba"
      },
      "execution_count": null,
      "outputs": []
    },
    {
      "cell_type": "markdown",
      "source": [
        "## Working"
      ],
      "metadata": {
        "id": "DPsPRc2_8q32"
      }
    },
    {
      "cell_type": "code",
      "source": [
        "from matplotlib.pyplot import imshow\n",
        "img = Image.open(r\"/content/drive/MyDrive/Dataset/brain_tumor_dataset/yes/Y103.jpg\")\n",
        "x = np.array(img.resize((128,128)))\n",
        "x = x.reshape(1,128,128,3)\n",
        "res = model.predict_on_batch(x)\n",
        "classification = np.where(res == np.amax(res))[1][0]\n",
        "imshow(img)\n",
        "print(str(res[0][classification]*100) + '% Confidence This Is A ' + names(classification))"
      ],
      "metadata": {
        "id": "DiCkJkNpLISY",
        "colab": {
          "base_uri": "https://localhost:8080/",
          "height": 286
        },
        "outputId": "4412e12c-d415-4b72-ec63-fdc6e35ea5ee"
      },
      "execution_count": null,
      "outputs": [
        {
          "output_type": "stream",
          "name": "stdout",
          "text": [
            "99.71628785133362% Confidence This Is A Its a Tumor\n"
          ]
        },
        {
          "output_type": "display_data",
          "data": {
            "image/png": "[encoded data removed]",
            "text/plain": [
              "<Figure size 432x288 with 1 Axes>"
            ]
          },
          "metadata": {
            "needs_background": "light"
          }
        }
      ]
    },
    {
      "cell_type": "markdown",
      "source": [
        "## Thank You!!"
      ],
      "metadata": {
        "id": "oTFqYVsQ9JhZ"
      }
    }
  ]
}